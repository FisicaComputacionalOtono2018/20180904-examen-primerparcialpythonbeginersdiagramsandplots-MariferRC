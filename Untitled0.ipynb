{
  "nbformat": 4,
  "nbformat_minor": 0,
  "metadata": {
    "colab": {
      "name": "Untitled0.ipynb",
      "version": "0.3.2",
      "provenance": []
    },
    "kernelspec": {
      "name": "python2",
      "display_name": "Python 2"
    }
  },
  "cells": [
    {
      "metadata": {
        "id": "F4Q_VN7tKw9a",
        "colab_type": "code",
        "colab": {
          "base_uri": "https://localhost:8080/",
          "height": 49
        },
        "outputId": "a79f5ec5-ac8c-4193-d278-8b7e6a549d17"
      },
      "cell_type": "code",
      "source": [
        "#ejercicio 4 \n",
        "x=1\n",
        "\n",
        "while x<=5:\n",
        "  if x%3==0:\n",
        "   x=x+2\n",
        "  else:\n",
        "    print(x)\n",
        "    x=x+2\n",
        "    #lo que hará el programa sera, \n",
        "    #que dado el numero x(en este caso 1), se le preguntará que si es menor o igual a 5\n",
        "    #si lo es, pasara a preguntar si es divisible entre 3, si no lo es imprimirá el numero y le sumara 2,\n",
        "   #y si es divisible ese numero solo le sumara 2\n",
        "   #y asi será hasta que x sea mayor a 5"
      ],
      "execution_count": 2,
      "outputs": [
        {
          "output_type": "stream",
          "text": [
            "1\n",
            "5\n"
          ],
          "name": "stdout"
        }
      ]
    },
    {
      "metadata": {
        "id": "JVjwCPWgN9bz",
        "colab_type": "code",
        "colab": {
          "base_uri": "https://localhost:8080/",
          "height": 364
        },
        "outputId": "c72811b5-0b4e-460c-9258-df8c01e20761"
      },
      "cell_type": "code",
      "source": [
        "import numpy as np\n",
        "import matplotlib.pyplot as plt\n",
        "\n",
        "def f(x): \n",
        "   return (3*x)-(x**2)\n",
        "   \n",
        "\n",
        "x= np.arange(-1, 4, 0.1)\n",
        "\n",
        "plt.plot(x, f(x), \"k\")\n",
        "plt.show()\n",
        "print(\"la coordenada en el que cambia el valor de la pendiente es\", 1.5,  max(f(x)))\n",
        "#el 1.5 sale de sacar la funcion inversa de f la cual al evaluarla en el maximo de f(x) es 1.5\n"
      ],
      "execution_count": 0,
      "outputs": [
        {
          "output_type": "display_data",
          "data": {
            "image/png": "[encoded data removed]",
            "text/plain": [
              "<matplotlib.figure.Figure at 0x7f0f12f442d0>"
            ]
          },
          "metadata": {
            "tags": []
          }
        },
        {
          "output_type": "stream",
          "text": [
            "('la coordenada en el que cambia el valor de la pendiente es', 1.5, 2.2499999999999996)\n"
          ],
          "name": "stdout"
        }
      ]
    },
    {
      "metadata": {
        "id": "CQba9IhtarDY",
        "colab_type": "code",
        "colab": {}
      },
      "cell_type": "code",
      "source": [
        "import numpy as np\n",
        "import matplotlib.pyplot as plt\n",
        "\n"
      ],
      "execution_count": 0,
      "outputs": []
    }
  ]
}